{
 "cells": [
  {
   "cell_type": "markdown",
   "metadata": {},
   "source": [
    "**lambda expression to extract first word of a string**"
   ]
  },
  {
   "cell_type": "code",
   "execution_count": 49,
   "metadata": {},
   "outputs": [
    {
     "data": {
      "text/plain": [
       "'J'"
      ]
     },
     "execution_count": 49,
     "metadata": {},
     "output_type": "execute_result"
    }
   ],
   "source": [
    "string1 = \"JupiterNb\"\n",
    "a = lambda x : x.split(\" \")[0][0]\n",
    "a(string1)"
   ]
  },
  {
   "cell_type": "markdown",
   "metadata": {},
   "source": [
    "**function to extract first word of s string (with many words separated by space)**"
   ]
  },
  {
   "cell_type": "code",
   "execution_count": 50,
   "metadata": {},
   "outputs": [
    {
     "name": "stdout",
     "output_type": "stream",
     "text": [
      "Hello\n"
     ]
    }
   ],
   "source": [
    "string1 = \"Hello Jack, Welcome to new institute.\"\n",
    "a = lambda x : x.split(\" \")[0]\n",
    "print(a(string1))"
   ]
  },
  {
   "cell_type": "markdown",
   "metadata": {},
   "source": [
    "**Extract the first word from every string from a list of strings by using map function**"
   ]
  },
  {
   "cell_type": "code",
   "execution_count": 51,
   "metadata": {},
   "outputs": [
    {
     "name": "stdout",
     "output_type": "stream",
     "text": [
      "['Hello', 'This', 'One']\n"
     ]
    }
   ],
   "source": [
    "string1 = \"Hello Jack, Welcome to new institute.\"\n",
    "string2 = \"This is premium institute.\"\n",
    "string3 = \"One of the best in country.\"\n",
    "l1 = [string1, string2, string3]\n",
    "print(list(map(lambda x : x.split()[0], l1)))\n"
   ]
  },
  {
   "cell_type": "markdown",
   "metadata": {},
   "source": [
    "**function to return a list of prime factors of a given number**"
   ]
  },
  {
   "cell_type": "code",
   "execution_count": 52,
   "metadata": {},
   "outputs": [
    {
     "name": "stdout",
     "output_type": "stream",
     "text": [
      "[2, 2, 3, 5]\n"
     ]
    }
   ],
   "source": [
    "def prime(n):\n",
    "    if n==0 or n==1:\n",
    "        return False\n",
    "    else:\n",
    "        for i in range(2, int(n**0.5)+1):\n",
    "            if n%i==0:\n",
    "                return False\n",
    "                break\n",
    "        else:\n",
    "            return True\n",
    "        \n",
    "def primeFact(n):\n",
    "    pFact = []\n",
    "    i = 2\n",
    "    while n > 1:\n",
    "        if n % i == 0 and prime(i):\n",
    "            pFact.append(i)\n",
    "            n = n/i\n",
    "        else:\n",
    "            i+=1\n",
    "    return pFact\n",
    "\n",
    "print(primeFact(60))"
   ]
  },
  {
   "cell_type": "markdown",
   "metadata": {},
   "source": [
    "**function that finds 2nd largest among 4 numbers (Repetitions are allowed, without sorting)**"
   ]
  },
  {
   "cell_type": "code",
   "execution_count": 53,
   "metadata": {},
   "outputs": [
    {
     "name": "stdout",
     "output_type": "stream",
     "text": [
      "61\n"
     ]
    }
   ],
   "source": [
    "l1 = [12, 45, 98, 61]\n",
    "def secondHighest(l1):\n",
    "    l1.remove(max(l1))\n",
    "    return max(l1)\n",
    "print(secondHighest(l1))"
   ]
  },
  {
   "cell_type": "code",
   "execution_count": null,
   "metadata": {},
   "outputs": [],
   "source": []
  }
 ],
 "metadata": {
  "kernelspec": {
   "display_name": "Python 3",
   "language": "python",
   "name": "python3"
  },
  "language_info": {
   "codemirror_mode": {
    "name": "ipython",
    "version": 3
   },
   "file_extension": ".py",
   "mimetype": "text/x-python",
   "name": "python",
   "nbconvert_exporter": "python",
   "pygments_lexer": "ipython3",
   "version": "3.8.5"
  }
 },
 "nbformat": 4,
 "nbformat_minor": 4
}
