{
 "cells": [
  {
   "cell_type": "code",
   "execution_count": 18,
   "metadata": {},
   "outputs": [
    {
     "name": "stdout",
     "output_type": "stream",
     "text": [
      "5 5 5 5 5 \n",
      "5 5 5 5 \n",
      "5 5 5 \n",
      "5 5 \n",
      "5 \n"
     ]
    }
   ],
   "source": [
    "for i in range(5,0,-1):\n",
    "    print(\"5 \" * i) "
   ]
  },
  {
   "cell_type": "code",
   "execution_count": 31,
   "metadata": {},
   "outputs": [
    {
     "name": "stdout",
     "output_type": "stream",
     "text": [
      "0 1 2 3 4 5 \n",
      "0 1 2 3 4 \n",
      "0 1 2 3 \n",
      "0 1 2 \n",
      "0 1 \n"
     ]
    }
   ],
   "source": [
    "for j in range(1,6):\n",
    "    for i in range(7-j):\n",
    "        print(i, end=\" \")\n",
    "    print()"
   ]
  },
  {
   "cell_type": "code",
   "execution_count": 43,
   "metadata": {},
   "outputs": [
    {
     "name": "stdout",
     "output_type": "stream",
     "text": [
      "1 \n",
      "3 3 \n",
      "5 5 5 \n",
      "7 7 7 7 \n",
      "9 9 9 9 9 \n"
     ]
    }
   ],
   "source": [
    "a = 1\n",
    "for i in range(1,10):\n",
    "    if i%2==1:\n",
    "        print(f\"{i} \"*a)\n",
    "        a = a + 1"
   ]
  },
  {
   "cell_type": "code",
   "execution_count": 3,
   "metadata": {},
   "outputs": [
    {
     "name": "stdout",
     "output_type": "stream",
     "text": [
      "1 \n",
      "2 1 \n",
      "3 2 1 \n",
      "4 3 2 1 \n",
      "5 4 3 2 1 \n"
     ]
    }
   ],
   "source": [
    "for i in range(1, 6):\n",
    "    for j in range(i, 0, -1):\n",
    "        print(j, end=\" \")\n",
    "    print()"
   ]
  },
  {
   "cell_type": "code",
   "execution_count": 5,
   "metadata": {},
   "outputs": [
    {
     "name": "stdout",
     "output_type": "stream",
     "text": [
      "1 \n",
      "3 2 \n",
      "6 5 4 \n",
      "10 9 8 7 \n"
     ]
    }
   ],
   "source": [
    "a = 1\n",
    "b = 2\n",
    "no = b\n",
    "for i in range(2, 6):\n",
    "    for j in range(a, b):\n",
    "        no = no - 1\n",
    "        print(no, end=\" \")\n",
    "    print()\n",
    "    a = b\n",
    "    b = b + i\n",
    "    no = b"
   ]
  },
  {
   "cell_type": "code",
   "execution_count": 7,
   "metadata": {},
   "outputs": [
    {
     "name": "stdout",
     "output_type": "stream",
     "text": [
      "1  \n",
      "1  1  \n",
      "1  2  1  \n",
      "1  3  3  1  \n",
      "1  4  6  4  1  \n",
      "1  5  10  10  5  1  \n",
      "1  6  15  20  15  6  1  \n"
     ]
    }
   ],
   "source": [
    "def fun1(n):\n",
    "    for i in range(0, n):\n",
    "        for j in range(0, i + 1):\n",
    "            print(fun2(i, j), \" \", end=\"\")\n",
    "        print()\n",
    "        \n",
    "def fun2(n, k):\n",
    "    res = 1\n",
    "    if (k > n - k):\n",
    "        k = n - k\n",
    "    for i in range(0, k):\n",
    "        res = res * (n - i)\n",
    "        res = res // (i + 1)\n",
    "        \n",
    "    return res\n",
    "fun1(7)"
   ]
  },
  {
   "cell_type": "code",
   "execution_count": 10,
   "metadata": {},
   "outputs": [
    {
     "name": "stdout",
     "output_type": "stream",
     "text": [
      "1 2 3 4 5 \n",
      "2 2 3 4 5 \n",
      "3 3 3 4 5 \n",
      "4 4 4 4 5 \n",
      "5 5 5 5 5 \n"
     ]
    }
   ],
   "source": [
    "for i in range(1, 6):\n",
    "    for j in range(1, 6):\n",
    "        if j <= i:\n",
    "            print(i, end=\" \")\n",
    "        else:\n",
    "            print(j, end=\" \")\n",
    "    print()"
   ]
  },
  {
   "cell_type": "code",
   "execution_count": 13,
   "metadata": {},
   "outputs": [
    {
     "name": "stdout",
     "output_type": "stream",
     "text": [
      "1 \n",
      "2 4 \n",
      "3 6 9 \n",
      "4 8 12 16 \n",
      "5 10 15 20 25 \n",
      "6 12 18 24 30 36 \n",
      "7 14 21 28 35 42 49 \n",
      "8 16 24 32 40 48 56 64 \n"
     ]
    }
   ],
   "source": [
    "for i in range(1, 9):\n",
    "    for j in range(1, i+1):\n",
    "        print(i * j, end=\" \")\n",
    "    print()\n",
    "    "
   ]
  },
  {
   "cell_type": "code",
   "execution_count": 14,
   "metadata": {},
   "outputs": [
    {
     "name": "stdout",
     "output_type": "stream",
     "text": [
      "        * * * * * * \r\n",
      "         * * * * * \r\n",
      "          * * * * \r\n",
      "           * * * \r\n",
      "            * * \r\n",
      "             * \r\n"
     ]
    }
   ],
   "source": [
    "n = 5\n",
    "k = 2 * n - 2\n",
    "for i in range(n, -1, -1):\n",
    "    for j in range(k, 0, -1):\n",
    "        print(end=\" \")\n",
    "    k += 1\n",
    "    for l in range(0, i+1):\n",
    "        print(\"*\", end=\" \")\n",
    "    print(\"\\r\")"
   ]
  },
  {
   "cell_type": "code",
   "execution_count": 18,
   "metadata": {},
   "outputs": [
    {
     "name": "stdout",
     "output_type": "stream",
     "text": [
      "            * \r\n",
      "           * * \r\n",
      "          * * * \r\n",
      "         * * * * \r\n",
      "        * * * * * \r\n",
      "       * * * * * * \r\n",
      "      * * * * * * * \r\n"
     ]
    }
   ],
   "source": [
    "n = 7\n",
    "k = 2 * n - 2\n",
    "for i in range(0, n):\n",
    "    for j in range(0, k):\n",
    "        print(end=\" \")\n",
    "    k -= 1\n",
    "    for l in range(0, i+1):\n",
    "        print(\"*\", end=\" \")\n",
    "    print(\"\\r\")"
   ]
  },
  {
   "cell_type": "code",
   "execution_count": 20,
   "metadata": {},
   "outputs": [
    {
     "name": "stdout",
     "output_type": "stream",
     "text": [
      "*    \n",
      "*  *    \n",
      "*  *  *    \n",
      "*  *  *  *    \n",
      "*  *  *  *  *    \n",
      "*  *  *  *  *  *    \n",
      "*  *  *  *  *  *  *    \n",
      "*  *  *  *  *  *  *    \n",
      "*  *  *  *  *  *    \n",
      "*  *  *  *  *    \n",
      "*  *  *  *    \n",
      "*  *  *    \n",
      "*  *    \n",
      "*    \n",
      "  \n"
     ]
    }
   ],
   "source": [
    "for i in range(0, 7):\n",
    "    for j in range(0, i + 1):\n",
    "        print(\"*\", end=\"  \")\n",
    "    print(\"  \")\n",
    "    \n",
    "for i in range(8,0, -1):\n",
    "    for j in range(0, i - 1):\n",
    "        print(\"*\", end=\"  \")\n",
    "    print(\"  \")"
   ]
  },
  {
   "cell_type": "code",
   "execution_count": 30,
   "metadata": {},
   "outputs": [
    {
     "name": "stdout",
     "output_type": "stream",
     "text": [
      "*   \n",
      "* *   \n",
      "* * *   \n",
      "* * * *   \n",
      "* * * * *   \n",
      "* * * * * *   \n",
      "* * * * * * *   \n",
      "* * * * * *   \n",
      "* * * * *   \n",
      "* * * *   \n",
      "* * *   \n",
      "* *   \n",
      "*   \n",
      "  \n"
     ]
    }
   ],
   "source": [
    "for i in range(0, 7):\n",
    "    for j in range(0, i + 1):\n",
    "        print(\"*\", end=\" \")\n",
    "    print(\"  \")\n",
    "    \n",
    "for i in range(7, 0, -1):\n",
    "    for j in range(0, i - 1):\n",
    "        print(\"*\", end=\" \")\n",
    "    print(\"  \")"
   ]
  },
  {
   "cell_type": "code",
   "execution_count": 29,
   "metadata": {},
   "outputs": [
    {
     "name": "stdout",
     "output_type": "stream",
     "text": [
      "        * \r\n",
      "      * * \r\n",
      "    * * * \r\n",
      "  * * * * \r\n",
      "* * * * * \r\n",
      "  * * * * \r\n",
      "    * * * \r\n",
      "      * * \r\n",
      "        * \r\n"
     ]
    }
   ],
   "source": [
    "def fun1(n):\n",
    "    k = 2 * n - 2\n",
    "    for i in range(0, n - 1):\n",
    "        for j in range(0, k):\n",
    "            print(end=\" \")\n",
    "        k -= 2\n",
    "        for j in range(0, i + 1):\n",
    "            print(\"* \",end=\"\")\n",
    "        print(\"\\r\")\n",
    "    k = -1    \n",
    "    for i in range(n - 1, -1, -1):\n",
    "        for j in range(k, -1, -1):\n",
    "            print(end=\" \")\n",
    "        k += 2\n",
    "        for j in range(0, i + 1):\n",
    "            print(\"* \",end=\"\")\n",
    "        print(\"\\r\")\n",
    "        \n",
    "fun1(5)"
   ]
  },
  {
   "cell_type": "code",
   "execution_count": 40,
   "metadata": {},
   "outputs": [
    {
     "name": "stdout",
     "output_type": "stream",
     "text": [
      "* * * * * \n",
      " * * * * \n",
      "  * * * \n",
      "   * * \n",
      "    * \n",
      "    * \n",
      "   * * \n",
      "  * * * \n",
      " * * * * \n",
      "* * * * * \n"
     ]
    }
   ],
   "source": [
    "n = 5\n",
    "i = 0\n",
    "while i <= n - 1:\n",
    "    j = 0\n",
    "    while j < i:\n",
    "        print('', end=\" \")\n",
    "        j += 1\n",
    "    k = i\n",
    "    while k <= n - 1:\n",
    "        print(\"*\", end=\" \")\n",
    "        k += 1\n",
    "    print()\n",
    "    i += 1\n",
    "    \n",
    "i = n - 1\n",
    "while i >= 0:\n",
    "    j = 0\n",
    "    while j < i:\n",
    "        print(\"\", end=\" \")\n",
    "        j += 1\n",
    "    k = i\n",
    "    while k <= n - 1:\n",
    "        print(\"*\", end=\" \")\n",
    "        k += 1\n",
    "    print(\"\")\n",
    "    i -= 1\n"
   ]
  },
  {
   "cell_type": "code",
   "execution_count": 42,
   "metadata": {},
   "outputs": [
    {
     "name": "stdout",
     "output_type": "stream",
     "text": [
      "**************\n",
      "******__******\n",
      "*****____*****\n",
      "****______****\n",
      "***________***\n",
      "**__________**\n",
      "*____________*\n"
     ]
    }
   ],
   "source": [
    "n = 14\n",
    "print(\"*\" * n, end=\"\\n\")\n",
    "i = (n // 2) - 1\n",
    "j = 2\n",
    "while i != 0:\n",
    "    while j <= (n - 2):\n",
    "        print(\"*\" * i, end=\"\")\n",
    "        print(\"_\" * j, end=\"\")\n",
    "        print(\"*\" * i, end=\"\\n\")\n",
    "        i -= 1\n",
    "        j += 2"
   ]
  },
  {
   "cell_type": "code",
   "execution_count": null,
   "metadata": {},
   "outputs": [],
   "source": []
  }
 ],
 "metadata": {
  "kernelspec": {
   "display_name": "Python 3",
   "language": "python",
   "name": "python3"
  },
  "language_info": {
   "codemirror_mode": {
    "name": "ipython",
    "version": 3
   },
   "file_extension": ".py",
   "mimetype": "text/x-python",
   "name": "python",
   "nbconvert_exporter": "python",
   "pygments_lexer": "ipython3",
   "version": "3.8.5"
  }
 },
 "nbformat": 4,
 "nbformat_minor": 4
}
