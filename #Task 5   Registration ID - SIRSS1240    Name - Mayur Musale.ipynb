{
 "cells": [
  {
   "cell_type": "markdown",
   "metadata": {},
   "source": [
    "**Given a list of integers, write a function to return the sum of all prime numbers in that\n",
    "list.**"
   ]
  },
  {
   "cell_type": "code",
   "execution_count": 74,
   "metadata": {},
   "outputs": [
    {
     "name": "stdout",
     "output_type": "stream",
     "text": [
      "70\n"
     ]
    }
   ],
   "source": [
    "def prime(n):\n",
    "    if n==0 or n==1:\n",
    "        return False\n",
    "    else:\n",
    "        for i in range(2, int(n**0.5)+1):\n",
    "            if n%i==0:\n",
    "                return False\n",
    "                break\n",
    "        else:\n",
    "            return True            \n",
    "def primeSum(ls):\n",
    "    primes_sum = 0\n",
    "    for i in ls:\n",
    "        if prime(i):\n",
    "            primes_sum += i\n",
    "    return primes_sum\n",
    "\n",
    "ls1 = [0,1,2,3,4,5,10,11, 13, 15, 17, 19]\n",
    "print(primeSum(ls1))\n"
   ]
  },
  {
   "cell_type": "markdown",
   "metadata": {},
   "source": [
    "**Given a list of integers, write a function to check whether the list is strictly increasing or\n",
    "not.**"
   ]
  },
  {
   "cell_type": "code",
   "execution_count": 75,
   "metadata": {},
   "outputs": [
    {
     "name": "stdout",
     "output_type": "stream",
     "text": [
      "List is strictly increasing\n",
      "List is Strictly not increasing\n"
     ]
    }
   ],
   "source": [
    "def checkList(ls1):\n",
    "    for i in range(1, len(ls1)):\n",
    "        if ls1[i] < ls1[i-1]:\n",
    "            return \"List is Strictly not increasing\"\n",
    "    return \"List is strictly increasing\"\n",
    "    \n",
    "print(checkList([1, 2, 3, 4, 5, 6, 7, 9]))\n",
    "print(checkList([3, 5, 1, 6, 2, 4, 6, 0]))"
   ]
  },
  {
   "cell_type": "markdown",
   "metadata": {},
   "source": [
    "**Write a function to check whether a given list is expanding or not (the difference\n",
    "between adjacent elements should keep on increasing).**"
   ]
  },
  {
   "cell_type": "code",
   "execution_count": 76,
   "metadata": {},
   "outputs": [
    {
     "name": "stdout",
     "output_type": "stream",
     "text": [
      "Expanding\n"
     ]
    }
   ],
   "source": [
    "def expanding(l):\n",
    "    a = abs(l[0] - l[1])\n",
    "    b = abs(l[1] - l[2])\n",
    "    \n",
    "    if a >= b:\n",
    "        return False\n",
    "    \n",
    "    else:\n",
    "        for i in range(3,len(l)):\n",
    "            c = abs(l[i] - l[i-1])\n",
    "            if c <= b:\n",
    "                return \"Not Expanding\"\n",
    "            b = c\n",
    "        else:\n",
    "            return \"Expanding\"\n",
    "        \n",
    "print(expanding([1, 0, 3, 7, 15]))"
   ]
  },
  {
   "cell_type": "markdown",
   "metadata": {},
   "source": [
    "**Write a function to calculate all permutations of a given string. (Without using itertools)**"
   ]
  },
  {
   "cell_type": "code",
   "execution_count": 80,
   "metadata": {},
   "outputs": [
    {
     "name": "stdout",
     "output_type": "stream",
     "text": [
      "ABC\n",
      "ACB\n",
      "BAC\n",
      "BCA\n",
      "CBA\n",
      "CAB\n"
     ]
    }
   ],
   "source": [
    "def toString(lst):\n",
    "    return ''.join(lst)\n",
    "def permutation(ls, x, r):\n",
    "    if x==r:\n",
    "        print(toString(a))\n",
    "    else:\n",
    "        for i in range(x,r+1):\n",
    "            a[x], a[i] = a[i], a[x]\n",
    "            permutation(a, x+1, r)\n",
    "            a[x], a[i] = a[i], a[x] \n",
    "\n",
    "string = \"ABC\"\n",
    "n = len(string)\n",
    "ls = list(string)\n",
    "permutation(a, 0, n-1)"
   ]
  },
  {
   "cell_type": "code",
   "execution_count": null,
   "metadata": {},
   "outputs": [],
   "source": []
  }
 ],
 "metadata": {
  "kernelspec": {
   "display_name": "Python 3",
   "language": "python",
   "name": "python3"
  },
  "language_info": {
   "codemirror_mode": {
    "name": "ipython",
    "version": 3
   },
   "file_extension": ".py",
   "mimetype": "text/x-python",
   "name": "python",
   "nbconvert_exporter": "python",
   "pygments_lexer": "ipython3",
   "version": "3.8.5"
  }
 },
 "nbformat": 4,
 "nbformat_minor": 4
}
